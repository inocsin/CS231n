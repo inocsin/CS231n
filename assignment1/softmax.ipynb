{
 "cells": [
  {
   "cell_type": "markdown",
   "metadata": {},
   "source": [
    "# Softmax exercise\n",
    "\n",
    "*Complete and hand in this completed worksheet (including its outputs and any supporting code outside of the worksheet) with your assignment submission. For more details see the [assignments page](http://vision.stanford.edu/teaching/cs231n/assignments.html) on the course website.*\n",
    "\n",
    "This exercise is analogous to the SVM exercise. You will:\n",
    "\n",
    "- implement a fully-vectorized **loss function** for the Softmax classifier\n",
    "- implement the fully-vectorized expression for its **analytic gradient**\n",
    "- **check your implementation** with numerical gradient\n",
    "- use a validation set to **tune the learning rate and regularization** strength\n",
    "- **optimize** the loss function with **SGD**\n",
    "- **visualize** the final learned weights\n"
   ]
  },
  {
   "cell_type": "code",
   "execution_count": 1,
   "metadata": {
    "collapsed": false
   },
   "outputs": [],
   "source": [
    "import random\n",
    "import numpy as np\n",
    "from cs231n.data_utils import load_CIFAR10\n",
    "import matplotlib.pyplot as plt\n",
    "%matplotlib inline\n",
    "plt.rcParams['figure.figsize'] = (10.0, 8.0) # set default size of plots\n",
    "plt.rcParams['image.interpolation'] = 'nearest'\n",
    "plt.rcParams['image.cmap'] = 'gray'\n",
    "\n",
    "# for auto-reloading extenrnal modules\n",
    "# see http://stackoverflow.com/questions/1907993/autoreload-of-modules-in-ipython\n",
    "%load_ext autoreload\n",
    "%autoreload 2"
   ]
  },
  {
   "cell_type": "code",
   "execution_count": 2,
   "metadata": {
    "collapsed": false
   },
   "outputs": [
    {
     "name": "stdout",
     "output_type": "stream",
     "text": [
      "Train data shape:  (49000L, 3073L)\n",
      "Train labels shape:  (49000L,)\n",
      "Validation data shape:  (1000L, 3073L)\n",
      "Validation labels shape:  (1000L,)\n",
      "Test data shape:  (1000L, 3073L)\n",
      "Test labels shape:  (1000L,)\n",
      "dev data shape:  (500L, 3073L)\n",
      "dev labels shape:  (500L,)\n"
     ]
    }
   ],
   "source": [
    "def get_CIFAR10_data(num_training=49000, num_validation=1000, num_test=1000, num_dev=500):\n",
    "  \"\"\"\n",
    "  Load the CIFAR-10 dataset from disk and perform preprocessing to prepare\n",
    "  it for the linear classifier. These are the same steps as we used for the\n",
    "  SVM, but condensed to a single function.  \n",
    "  \"\"\"\n",
    "  # Load the raw CIFAR-10 data\n",
    "  cifar10_dir = 'cs231n/datasets/cifar-10-batches-py'\n",
    "  X_train, y_train, X_test, y_test = load_CIFAR10(cifar10_dir)\n",
    "  \n",
    "  # subsample the data\n",
    "  mask = range(num_training, num_training + num_validation)\n",
    "  X_val = X_train[mask]\n",
    "  y_val = y_train[mask]\n",
    "  mask = range(num_training)\n",
    "  X_train = X_train[mask]\n",
    "  y_train = y_train[mask]\n",
    "  mask = range(num_test)\n",
    "  X_test = X_test[mask]\n",
    "  y_test = y_test[mask]\n",
    "  mask = np.random.choice(num_training, num_dev, replace=False)\n",
    "  X_dev = X_train[mask]\n",
    "  y_dev = y_train[mask]\n",
    "  \n",
    "  # Preprocessing: reshape the image data into rows\n",
    "  X_train = np.reshape(X_train, (X_train.shape[0], -1))\n",
    "  X_val = np.reshape(X_val, (X_val.shape[0], -1))\n",
    "  X_test = np.reshape(X_test, (X_test.shape[0], -1))\n",
    "  X_dev = np.reshape(X_dev, (X_dev.shape[0], -1))\n",
    "  \n",
    "  # Normalize the data: subtract the mean image\n",
    "  mean_image = np.mean(X_train, axis = 0)\n",
    "  X_train -= mean_image\n",
    "  X_val -= mean_image\n",
    "  X_test -= mean_image\n",
    "  X_dev -= mean_image\n",
    "  \n",
    "  # add bias dimension and transform into columns\n",
    "  X_train = np.hstack([X_train, np.ones((X_train.shape[0], 1))])\n",
    "  X_val = np.hstack([X_val, np.ones((X_val.shape[0], 1))])\n",
    "  X_test = np.hstack([X_test, np.ones((X_test.shape[0], 1))])\n",
    "  X_dev = np.hstack([X_dev, np.ones((X_dev.shape[0], 1))])\n",
    "  \n",
    "  return X_train, y_train, X_val, y_val, X_test, y_test, X_dev, y_dev\n",
    "\n",
    "\n",
    "# Invoke the above function to get our data.\n",
    "X_train, y_train, X_val, y_val, X_test, y_test, X_dev, y_dev = get_CIFAR10_data()\n",
    "print 'Train data shape: ', X_train.shape\n",
    "print 'Train labels shape: ', y_train.shape\n",
    "print 'Validation data shape: ', X_val.shape\n",
    "print 'Validation labels shape: ', y_val.shape\n",
    "print 'Test data shape: ', X_test.shape\n",
    "print 'Test labels shape: ', y_test.shape\n",
    "print 'dev data shape: ', X_dev.shape\n",
    "print 'dev labels shape: ', y_dev.shape"
   ]
  },
  {
   "cell_type": "markdown",
   "metadata": {},
   "source": [
    "## Softmax Classifier\n",
    "\n",
    "Your code for this section will all be written inside **cs231n/classifiers/softmax.py**. \n"
   ]
  },
  {
   "cell_type": "code",
   "execution_count": 8,
   "metadata": {
    "collapsed": false
   },
   "outputs": [
    {
     "name": "stdout",
     "output_type": "stream",
     "text": [
      "loss: 2.342632\n",
      "sanity check: 2.302585\n"
     ]
    }
   ],
   "source": [
    "# First implement the naive softmax loss function with nested loops.\n",
    "# Open the file cs231n/classifiers/softmax.py and implement the\n",
    "# softmax_loss_naive function.\n",
    "\n",
    "from cs231n.classifiers.softmax import softmax_loss_naive\n",
    "import time\n",
    "\n",
    "# Generate a random softmax weight matrix and use it to compute the loss.\n",
    "W = np.random.randn(3073, 10) * 0.0001\n",
    "loss, grad = softmax_loss_naive(W, X_dev, y_dev, 0.0)\n",
    "\n",
    "# As a rough sanity check, our loss should be something close to -log(0.1).\n",
    "print 'loss: %f' % loss\n",
    "print 'sanity check: %f' % (-np.log(0.1))"
   ]
  },
  {
   "cell_type": "markdown",
   "metadata": {},
   "source": [
    "## Inline Question 1:\n",
    "Why do we expect our loss to be close to -log(0.1)? Explain briefly.**\n",
    "\n",
    "**Your answer:** *Fill this in*\n"
   ]
  },
  {
   "cell_type": "code",
   "execution_count": 9,
   "metadata": {
    "collapsed": false
   },
   "outputs": [
    {
     "name": "stdout",
     "output_type": "stream",
     "text": [
      "(2262, 2)\n",
      "7.66656810099e-05\n",
      "numerical: -1.261093 analytic: -1.261093, relative error: 1.186254e-08\n",
      "(1183, 0)\n",
      "7.37963391485e-05\n",
      "numerical: -0.784145 analytic: -0.784145, relative error: 6.944908e-09\n",
      "(2965, 7)\n",
      "-0.000187406032254\n",
      "numerical: -0.414587 analytic: -0.414587, relative error: 9.814124e-08\n",
      "(1843, 7)\n",
      "3.46619793489e-05\n",
      "numerical: -0.345410 analytic: -0.345410, relative error: 9.798612e-09\n",
      "(18, 5)\n",
      "3.23346674815e-05\n",
      "numerical: 2.769099 analytic: 2.769099, relative error: 1.617930e-08\n",
      "(70, 8)\n",
      "-5.01826109917e-05\n",
      "numerical: -3.199872 analytic: -3.199872, relative error: 6.294772e-09\n",
      "(2780, 7)\n",
      "0.000125857206485\n",
      "numerical: 1.041214 analytic: 1.041214, relative error: 6.867612e-08\n",
      "(2887, 5)\n",
      "-0.000200122115155\n",
      "numerical: 0.995616 analytic: 0.995616, relative error: 7.060390e-08\n",
      "(2124, 4)\n",
      "0.000162258636073\n",
      "numerical: 0.222411 analytic: 0.222411, relative error: 7.111370e-08\n",
      "(970, 2)\n",
      "1.28065979468e-05\n",
      "numerical: 0.341958 analytic: 0.341958, relative error: 1.658870e-08\n",
      "(582, 1)\n",
      "-3.04982854174e-05\n",
      "numerical: -1.582037 analytic: -1.582037, relative error: 1.537987e-08\n",
      "(573, 4)\n",
      "3.3120708665e-05\n",
      "numerical: 1.153500 analytic: 1.153500, relative error: 9.705139e-09\n",
      "(1483, 9)\n",
      "-9.80619916761e-05\n",
      "numerical: 0.505250 analytic: 0.505250, relative error: 3.746829e-08\n",
      "(1474, 3)\n",
      "0.000163753058225\n",
      "numerical: 0.126722 analytic: 0.126722, relative error: 8.115288e-08\n",
      "(1719, 3)\n",
      "-5.92452093078e-05\n",
      "numerical: 0.032409 analytic: 0.032409, relative error: 1.020567e-06\n",
      "(2320, 8)\n",
      "-5.74186784582e-05\n",
      "numerical: -0.102201 analytic: -0.102201, relative error: 1.438502e-07\n",
      "(2017, 8)\n",
      "-0.000146460283481\n",
      "numerical: 0.074394 analytic: 0.074394, relative error: 9.579559e-08\n",
      "(1461, 2)\n",
      "2.22975184695e-06\n",
      "numerical: -0.205071 analytic: -0.205071, relative error: 8.137578e-08\n",
      "(1663, 0)\n",
      "0.000136577625949\n",
      "numerical: -0.346552 analytic: -0.346552, relative error: 1.186923e-08\n",
      "(2238, 6)\n",
      "-9.10953099485e-05\n",
      "numerical: -0.237364 analytic: -0.237364, relative error: 3.042691e-11\n"
     ]
    }
   ],
   "source": [
    "# Complete the implementation of softmax_loss_naive and implement a (naive)\n",
    "# version of the gradient that uses nested loops.\n",
    "loss, grad = softmax_loss_naive(W, X_dev, y_dev, 0.0)\n",
    "\n",
    "# As we did for the SVM, use numeric gradient checking as a debugging tool.\n",
    "# The numeric gradient should be close to the analytic gradient.\n",
    "from cs231n.gradient_check import grad_check_sparse\n",
    "f = lambda w: softmax_loss_naive(w, X_dev, y_dev, 0.0)[0]\n",
    "grad_numerical = grad_check_sparse(f, W, grad, 10)\n",
    "\n",
    "# similar to SVM case, do another gradient check with regularization\n",
    "loss, grad = softmax_loss_naive(W, X_dev, y_dev, 1e2)\n",
    "f = lambda w: softmax_loss_naive(w, X_dev, y_dev, 1e2)[0]\n",
    "grad_numerical = grad_check_sparse(f, W, grad, 10)"
   ]
  },
  {
   "cell_type": "code",
   "execution_count": 11,
   "metadata": {
    "collapsed": false
   },
   "outputs": [
    {
     "name": "stdout",
     "output_type": "stream",
     "text": [
      "naive loss: 2.342632e+00 computed in 0.101000s\n",
      "vectorized loss: -1.059892e-01 computed in 0.008000s\n",
      "Loss difference: 2.448621\n",
      "Gradient difference: 0.000000\n"
     ]
    }
   ],
   "source": [
    "# Now that we have a naive implementation of the softmax loss function and its gradient,\n",
    "# implement a vectorized version in softmax_loss_vectorized.\n",
    "# The two versions should compute the same results, but the vectorized version should be\n",
    "# much faster.\n",
    "tic = time.time()\n",
    "loss_naive, grad_naive = softmax_loss_naive(W, X_dev, y_dev, 0.00001)\n",
    "toc = time.time()\n",
    "print 'naive loss: %e computed in %fs' % (loss_naive, toc - tic)\n",
    "\n",
    "from cs231n.classifiers.softmax import softmax_loss_vectorized\n",
    "tic = time.time()\n",
    "loss_vectorized, grad_vectorized = softmax_loss_vectorized(W, X_dev, y_dev, 0.00001)\n",
    "toc = time.time()\n",
    "print 'vectorized loss: %e computed in %fs' % (loss_vectorized, toc - tic)\n",
    "\n",
    "# As we did for the SVM, we use the Frobenius norm to compare the two versions\n",
    "# of the gradient.\n",
    "grad_difference = np.linalg.norm(grad_naive - grad_vectorized, ord='fro')\n",
    "print 'Loss difference: %f' % np.abs(loss_naive - loss_vectorized)\n",
    "print 'Gradient difference: %f' % grad_difference"
   ]
  },
  {
   "cell_type": "code",
   "execution_count": 12,
   "metadata": {
    "collapsed": false
   },
   "outputs": [
    {
     "name": "stderr",
     "output_type": "stream",
     "text": [
      "cs231n\\classifiers\\softmax.py:95: RuntimeWarning: overflow encountered in double_scalars\n",
      "cs231n\\classifiers\\softmax.py:95: RuntimeWarning: overflow encountered in multiply\n",
      "cs231n\\classifiers\\softmax.py:84: RuntimeWarning: overflow encountered in subtract\n",
      "  return loss, dW\n",
      "cs231n\\classifiers\\softmax.py:84: RuntimeWarning: invalid value encountered in subtract\n",
      "  return loss, dW\n",
      "cs231n\\classifiers\\softmax.py:86: RuntimeWarning: overflow encountered in exp\n",
      "cs231n\\classifiers\\softmax.py:89: RuntimeWarning: overflow encountered in exp\n",
      "cs231n\\classifiers\\softmax.py:96: RuntimeWarning: overflow encountered in multiply\n",
      "cs231n\\classifiers\\linear_classifier.py:74: RuntimeWarning: overflow encountered in multiply\n",
      "  self.W-=learning_rate*grad\n"
     ]
    },
    {
     "name": "stdout",
     "output_type": "stream",
     "text": [
      "lr 1.000000e-10 reg 1.000000e-03 train accuracy: 0.097347 val accuracy: 0.099000\n",
      "lr 1.000000e-10 reg 1.000000e-02 train accuracy: 0.096776 val accuracy: 0.109000\n",
      "lr 1.000000e-10 reg 1.000000e-01 train accuracy: 0.121143 val accuracy: 0.120000\n",
      "lr 1.000000e-10 reg 1.000000e+00 train accuracy: 0.095490 val accuracy: 0.096000\n",
      "lr 1.000000e-10 reg 1.000000e+01 train accuracy: 0.092347 val accuracy: 0.083000\n",
      "lr 1.000000e-10 reg 1.000000e+02 train accuracy: 0.088347 val accuracy: 0.082000\n",
      "lr 1.000000e-10 reg 1.000000e+03 train accuracy: 0.109306 val accuracy: 0.108000\n",
      "lr 1.000000e-10 reg 1.000000e+04 train accuracy: 0.093796 val accuracy: 0.090000\n",
      "lr 1.000000e-10 reg 1.000000e+05 train accuracy: 0.105061 val accuracy: 0.107000\n",
      "lr 1.000000e-10 reg 1.000000e+06 train accuracy: 0.080551 val accuracy: 0.087000\n",
      "lr 1.668101e-08 reg 1.000000e-03 train accuracy: 0.094061 val accuracy: 0.097000\n",
      "lr 1.668101e-08 reg 1.000000e-02 train accuracy: 0.110429 val accuracy: 0.122000\n",
      "lr 1.668101e-08 reg 1.000000e-01 train accuracy: 0.095000 val accuracy: 0.093000\n",
      "lr 1.668101e-08 reg 1.000000e+00 train accuracy: 0.124694 val accuracy: 0.120000\n",
      "lr 1.668101e-08 reg 1.000000e+01 train accuracy: 0.095490 val accuracy: 0.079000\n",
      "lr 1.668101e-08 reg 1.000000e+02 train accuracy: 0.104408 val accuracy: 0.098000\n",
      "lr 1.668101e-08 reg 1.000000e+03 train accuracy: 0.118633 val accuracy: 0.135000\n",
      "lr 1.668101e-08 reg 1.000000e+04 train accuracy: 0.108714 val accuracy: 0.105000\n",
      "lr 1.668101e-08 reg 1.000000e+05 train accuracy: 0.109776 val accuracy: 0.116000\n",
      "lr 1.668101e-08 reg 1.000000e+06 train accuracy: 0.124102 val accuracy: 0.127000\n",
      "lr 2.782559e-06 reg 1.000000e-03 train accuracy: 0.278061 val accuracy: 0.299000\n",
      "lr 2.782559e-06 reg 1.000000e-02 train accuracy: 0.270082 val accuracy: 0.270000\n",
      "lr 2.782559e-06 reg 1.000000e-01 train accuracy: 0.269408 val accuracy: 0.284000\n",
      "lr 2.782559e-06 reg 1.000000e+00 train accuracy: 0.268857 val accuracy: 0.291000\n",
      "lr 2.782559e-06 reg 1.000000e+01 train accuracy: 0.277082 val accuracy: 0.286000\n",
      "lr 2.782559e-06 reg 1.000000e+02 train accuracy: 0.278796 val accuracy: 0.305000\n",
      "lr 2.782559e-06 reg 1.000000e+03 train accuracy: 0.287735 val accuracy: 0.305000\n",
      "lr 2.782559e-06 reg 1.000000e+04 train accuracy: 0.350449 val accuracy: 0.350000\n",
      "lr 2.782559e-06 reg 1.000000e+05 train accuracy: 0.273265 val accuracy: 0.271000\n",
      "lr 2.782559e-06 reg 1.000000e+06 train accuracy: 0.107408 val accuracy: 0.111000\n",
      "lr 4.641589e-04 reg 1.000000e-03 train accuracy: 0.249082 val accuracy: 0.248000\n",
      "lr 4.641589e-04 reg 1.000000e-02 train accuracy: 0.286102 val accuracy: 0.267000\n",
      "lr 4.641589e-04 reg 1.000000e-01 train accuracy: 0.322959 val accuracy: 0.315000\n",
      "lr 4.641589e-04 reg 1.000000e+00 train accuracy: 0.252571 val accuracy: 0.252000\n",
      "lr 4.641589e-04 reg 1.000000e+01 train accuracy: 0.251571 val accuracy: 0.244000\n",
      "lr 4.641589e-04 reg 1.000000e+02 train accuracy: 0.212694 val accuracy: 0.228000\n",
      "lr 4.641589e-04 reg 1.000000e+03 train accuracy: 0.152286 val accuracy: 0.128000\n",
      "lr 4.641589e-04 reg 1.000000e+04 train accuracy: 0.079041 val accuracy: 0.075000\n",
      "lr 4.641589e-04 reg 1.000000e+05 train accuracy: 0.075327 val accuracy: 0.072000\n",
      "lr 4.641589e-04 reg 1.000000e+06 train accuracy: 0.097143 val accuracy: 0.093000\n",
      "lr 7.742637e-02 reg 1.000000e-03 train accuracy: 0.235163 val accuracy: 0.249000\n",
      "lr 7.742637e-02 reg 1.000000e-02 train accuracy: 0.303469 val accuracy: 0.308000\n",
      "lr 7.742637e-02 reg 1.000000e-01 train accuracy: 0.232755 val accuracy: 0.231000\n",
      "lr 7.742637e-02 reg 1.000000e+00 train accuracy: 0.216878 val accuracy: 0.238000\n",
      "lr 7.742637e-02 reg 1.000000e+01 train accuracy: 0.127020 val accuracy: 0.140000\n",
      "lr 7.742637e-02 reg 1.000000e+02 train accuracy: 0.057184 val accuracy: 0.064000\n",
      "lr 7.742637e-02 reg 1.000000e+03 train accuracy: 0.056020 val accuracy: 0.057000\n",
      "lr 7.742637e-02 reg 1.000000e+04 train accuracy: 0.072184 val accuracy: 0.076000\n",
      "lr 7.742637e-02 reg 1.000000e+05 train accuracy: 0.100265 val accuracy: 0.087000\n",
      "lr 7.742637e-02 reg 1.000000e+06 train accuracy: 0.100265 val accuracy: 0.087000\n",
      "lr 1.291550e+01 reg 1.000000e-03 train accuracy: 0.261531 val accuracy: 0.275000\n",
      "lr 1.291550e+01 reg 1.000000e-02 train accuracy: 0.201592 val accuracy: 0.210000\n",
      "lr 1.291550e+01 reg 1.000000e-01 train accuracy: 0.071367 val accuracy: 0.071000\n",
      "lr 1.291550e+01 reg 1.000000e+00 train accuracy: 0.074959 val accuracy: 0.068000\n",
      "lr 1.291550e+01 reg 1.000000e+01 train accuracy: 0.048551 val accuracy: 0.036000\n",
      "lr 1.291550e+01 reg 1.000000e+02 train accuracy: 0.100265 val accuracy: 0.087000\n",
      "lr 1.291550e+01 reg 1.000000e+03 train accuracy: 0.100265 val accuracy: 0.087000\n",
      "lr 1.291550e+01 reg 1.000000e+04 train accuracy: 0.100265 val accuracy: 0.087000\n",
      "lr 1.291550e+01 reg 1.000000e+05 train accuracy: 0.100265 val accuracy: 0.087000\n",
      "lr 1.291550e+01 reg 1.000000e+06 train accuracy: 0.100265 val accuracy: 0.087000\n",
      "lr 2.154435e+03 reg 1.000000e-03 train accuracy: 0.070082 val accuracy: 0.071000\n",
      "lr 2.154435e+03 reg 1.000000e-02 train accuracy: 0.065653 val accuracy: 0.067000\n",
      "lr 2.154435e+03 reg 1.000000e-01 train accuracy: 0.044959 val accuracy: 0.034000\n",
      "lr 2.154435e+03 reg 1.000000e+00 train accuracy: 0.100265 val accuracy: 0.087000\n",
      "lr 2.154435e+03 reg 1.000000e+01 train accuracy: 0.100265 val accuracy: 0.087000\n",
      "lr 2.154435e+03 reg 1.000000e+02 train accuracy: 0.100265 val accuracy: 0.087000\n",
      "lr 2.154435e+03 reg 1.000000e+03 train accuracy: 0.100265 val accuracy: 0.087000\n",
      "lr 2.154435e+03 reg 1.000000e+04 train accuracy: 0.100265 val accuracy: 0.087000\n",
      "lr 2.154435e+03 reg 1.000000e+05 train accuracy: 0.100265 val accuracy: 0.087000\n",
      "lr 2.154435e+03 reg 1.000000e+06 train accuracy: 0.100265 val accuracy: 0.087000\n",
      "lr 3.593814e+05 reg 1.000000e-03 train accuracy: 0.051816 val accuracy: 0.054000\n",
      "lr 3.593814e+05 reg 1.000000e-02 train accuracy: 0.100265 val accuracy: 0.087000\n",
      "lr 3.593814e+05 reg 1.000000e-01 train accuracy: 0.100265 val accuracy: 0.087000\n",
      "lr 3.593814e+05 reg 1.000000e+00 train accuracy: 0.100265 val accuracy: 0.087000\n",
      "lr 3.593814e+05 reg 1.000000e+01 train accuracy: 0.100265 val accuracy: 0.087000\n",
      "lr 3.593814e+05 reg 1.000000e+02 train accuracy: 0.100265 val accuracy: 0.087000\n",
      "lr 3.593814e+05 reg 1.000000e+03 train accuracy: 0.100265 val accuracy: 0.087000\n",
      "lr 3.593814e+05 reg 1.000000e+04 train accuracy: 0.100265 val accuracy: 0.087000\n",
      "lr 3.593814e+05 reg 1.000000e+05 train accuracy: 0.100265 val accuracy: 0.087000\n",
      "lr 3.593814e+05 reg 1.000000e+06 train accuracy: 0.100265 val accuracy: 0.087000\n",
      "lr 5.994843e+07 reg 1.000000e-03 train accuracy: 0.100265 val accuracy: 0.087000\n",
      "lr 5.994843e+07 reg 1.000000e-02 train accuracy: 0.100265 val accuracy: 0.087000\n",
      "lr 5.994843e+07 reg 1.000000e-01 train accuracy: 0.100265 val accuracy: 0.087000\n",
      "lr 5.994843e+07 reg 1.000000e+00 train accuracy: 0.100265 val accuracy: 0.087000\n",
      "lr 5.994843e+07 reg 1.000000e+01 train accuracy: 0.100265 val accuracy: 0.087000\n",
      "lr 5.994843e+07 reg 1.000000e+02 train accuracy: 0.100265 val accuracy: 0.087000\n",
      "lr 5.994843e+07 reg 1.000000e+03 train accuracy: 0.100265 val accuracy: 0.087000\n",
      "lr 5.994843e+07 reg 1.000000e+04 train accuracy: 0.100265 val accuracy: 0.087000\n",
      "lr 5.994843e+07 reg 1.000000e+05 train accuracy: 0.100265 val accuracy: 0.087000\n",
      "lr 5.994843e+07 reg 1.000000e+06 train accuracy: 0.100265 val accuracy: 0.087000\n",
      "lr 1.000000e+10 reg 1.000000e-03 train accuracy: 0.100265 val accuracy: 0.087000\n",
      "lr 1.000000e+10 reg 1.000000e-02 train accuracy: 0.100265 val accuracy: 0.087000\n",
      "lr 1.000000e+10 reg 1.000000e-01 train accuracy: 0.100265 val accuracy: 0.087000\n",
      "lr 1.000000e+10 reg 1.000000e+00 train accuracy: 0.100265 val accuracy: 0.087000\n",
      "lr 1.000000e+10 reg 1.000000e+01 train accuracy: 0.100265 val accuracy: 0.087000\n",
      "lr 1.000000e+10 reg 1.000000e+02 train accuracy: 0.100265 val accuracy: 0.087000\n",
      "lr 1.000000e+10 reg 1.000000e+03 train accuracy: 0.100265 val accuracy: 0.087000\n",
      "lr 1.000000e+10 reg 1.000000e+04 train accuracy: 0.100265 val accuracy: 0.087000\n",
      "lr 1.000000e+10 reg 1.000000e+05 train accuracy: 0.100265 val accuracy: 0.087000\n",
      "lr 1.000000e+10 reg 1.000000e+06 train accuracy: 0.100265 val accuracy: 0.087000\n",
      "best validation accuracy achieved during cross-validation: 0.350000\n"
     ]
    }
   ],
   "source": [
    "# Use the validation set to tune hyperparameters (regularization strength and\n",
    "# learning rate). You should experiment with different ranges for the learning\n",
    "# rates and regularization strengths; if you are careful you should be able to\n",
    "# get a classification accuracy of over 0.35 on the validation set.\n",
    "from cs231n.classifiers import Softmax\n",
    "results = {}\n",
    "best_val = -1\n",
    "best_softmax = None\n",
    "learning_rates = np.logspace(-10, 10, 10)\n",
    "regularization_strengths = np.logspace(-3, 6, 10)\n",
    "\n",
    "################################################################################\n",
    "# TODO:                                                                        #\n",
    "# Use the validation set to set the learning rate and regularization strength. #\n",
    "# This should be identical to the validation that you did for the SVM; save    #\n",
    "# the best trained softmax classifer in best_softmax.                          #\n",
    "################################################################################\n",
    "# pass\n",
    "iters = 100\n",
    "for lr in learning_rates:\n",
    "    for rs in regularization_strengths:\n",
    "        softmax = Softmax()\n",
    "        softmax.train(X_train, y_train, learning_rate=lr, reg=rs, num_iters=iters)\n",
    "        \n",
    "        y_train_pred = softmax.predict(X_train)\n",
    "        acc_train = np.mean(y_train == y_train_pred)\n",
    "        y_val_pred = softmax.predict(X_val)\n",
    "        acc_val = np.mean(y_val == y_val_pred)\n",
    "        \n",
    "        results[(lr, rs)] = (acc_train, acc_val)\n",
    "        \n",
    "        if best_val < acc_val:\n",
    "            best_val = acc_val\n",
    "            best_softmax = softmax\n",
    "################################################################################\n",
    "#                              END OF YOUR CODE                                #\n",
    "################################################################################\n",
    "    \n",
    "# Print out results.\n",
    "for lr, reg in sorted(results):\n",
    "    train_accuracy, val_accuracy = results[(lr, reg)]\n",
    "    print 'lr %e reg %e train accuracy: %f val accuracy: %f' % (\n",
    "                lr, reg, train_accuracy, val_accuracy)\n",
    "    \n",
    "print 'best validation accuracy achieved during cross-validation: %f' % best_val"
   ]
  },
  {
   "cell_type": "code",
   "execution_count": 13,
   "metadata": {
    "collapsed": false
   },
   "outputs": [
    {
     "name": "stdout",
     "output_type": "stream",
     "text": [
      "softmax on raw pixels final test set accuracy: 0.333000\n"
     ]
    }
   ],
   "source": [
    "# evaluate on test set\n",
    "# Evaluate the best softmax on test set\n",
    "y_test_pred = best_softmax.predict(X_test)\n",
    "test_accuracy = np.mean(y_test == y_test_pred)\n",
    "print 'softmax on raw pixels final test set accuracy: %f' % (test_accuracy, )"
   ]
  },
  {
   "cell_type": "code",
   "execution_count": 14,
   "metadata": {
    "collapsed": false
   },
   "outputs": [
    {
     "data": {
      "image/png": "[encoded data removed]",
      "text/plain": [
       "<matplotlib.figure.Figure at 0x7d84cf8>"
      ]
     },
     "metadata": {},
     "output_type": "display_data"
    }
   ],
   "source": [
    "# Visualize the learned weights for each class\n",
    "w = best_softmax.W[:-1,:] # strip out the bias\n",
    "w = w.reshape(32, 32, 3, 10)\n",
    "\n",
    "w_min, w_max = np.min(w), np.max(w)\n",
    "\n",
    "classes = ['plane', 'car', 'bird', 'cat', 'deer', 'dog', 'frog', 'horse', 'ship', 'truck']\n",
    "for i in xrange(10):\n",
    "  plt.subplot(2, 5, i + 1)\n",
    "  \n",
    "  # Rescale the weights to be between 0 and 255\n",
    "  wimg = 255.0 * (w[:, :, :, i].squeeze() - w_min) / (w_max - w_min)\n",
    "  plt.imshow(wimg.astype('uint8'))\n",
    "  plt.axis('off')\n",
    "  plt.title(classes[i])"
   ]
  },
  {
   "cell_type": "code",
   "execution_count": null,
   "metadata": {
    "collapsed": true
   },
   "outputs": [],
   "source": []
  }
 ],
 "metadata": {
  "kernelspec": {
   "display_name": "Python 2",
   "language": "python",
   "name": "python2"
  },
  "language_info": {
   "codemirror_mode": {
    "name": "ipython",
    "version": 2
   },
   "file_extension": ".py",
   "mimetype": "text/x-python",
   "name": "python",
   "nbconvert_exporter": "python",
   "pygments_lexer": "ipython2",
   "version": "2.7.11"
  }
 },
 "nbformat": 4,
 "nbformat_minor": 0
}
